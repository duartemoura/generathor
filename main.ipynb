{
 "cells": [
  {
   "cell_type": "code",
   "execution_count": 1,
   "id": "a5e5adef-25ea-4247-af21-aece29e30b1f",
   "metadata": {
    "tags": []
   },
   "outputs": [],
   "source": [
    "import sys\n",
    "import os\n",
    "\n",
    "# Add the parent directory of the current working directory to sys.path\n",
    "sys.path.append(os.path.abspath(\"..\"))"
   ]
  },
  {
   "cell_type": "code",
   "execution_count": 9,
   "id": "5ed37acd-a3bc-42c3-9d1c-46d6714a237a",
   "metadata": {
    "tags": []
   },
   "outputs": [
    {
     "name": "stdout",
     "output_type": "stream",
     "text": [
      "/home/ec2-user/SageMaker/Fine_Tune_LLMs/Big/src\n"
     ]
    }
   ],
   "source": [
    "print(os.getcwd())"
   ]
  },
  {
   "cell_type": "code",
   "execution_count": 21,
   "id": "4fc55866-a7ff-40fd-b232-32f65c519af0",
   "metadata": {
    "tags": []
   },
   "outputs": [
    {
     "name": "stdout",
     "output_type": "stream",
     "text": [
      "Collecting faiss-gpu\n",
      "  Downloading faiss_gpu-1.7.2-cp310-cp310-manylinux_2_17_x86_64.manylinux2014_x86_64.whl.metadata (1.4 kB)\n",
      "Downloading faiss_gpu-1.7.2-cp310-cp310-manylinux_2_17_x86_64.manylinux2014_x86_64.whl (85.5 MB)\n",
      "\u001b[2K   \u001b[90m━━━━━━━━━━━━━━━━━━━━━━━━━━━━━━━━━━━━━━━━\u001b[0m \u001b[32m85.5/85.5 MB\u001b[0m \u001b[31m170.9 MB/s\u001b[0m eta \u001b[36m0:00:00\u001b[0m00:01\u001b[0m00:01\u001b[0m\n",
      "\u001b[?25hInstalling collected packages: faiss-gpu\n",
      "Successfully installed faiss-gpu-1.7.2\n"
     ]
    }
   ],
   "source": [
    "!pip install faiss-gpu"
   ]
  },
  {
   "cell_type": "code",
   "execution_count": 2,
   "id": "eb046e48-dedc-4722-bc0d-09d1f812faad",
   "metadata": {
    "tags": []
   },
   "outputs": [
    {
     "name": "stderr",
     "output_type": "stream",
     "text": [
      "2024-11-08 13:40:45,476 - botocore.credentials - INFO - Found credentials from IAM Role: BaseNotebookInstanceEc2InstanceRole\n",
      "/home/ec2-user/SageMaker/Fine_Tune_LLMs/Big/src/embeddings/embedding_manager.py:13: LangChainDeprecationWarning: The class `BedrockEmbeddings` was deprecated in LangChain 0.2.11 and will be removed in 1.0. An updated version of the class exists in the :class:`~langchain-aws package and should be used instead. To use it run `pip install -U :class:`~langchain-aws` and import as `from :class:`~langchain_aws import BedrockEmbeddings``.\n",
      "  self.embeddings = BedrockEmbeddings(\n"
     ]
    }
   ],
   "source": [
    "import yaml\n",
    "import boto3\n",
    "import src\n",
    "from src.document_processor.loader import DocumentLoader\n",
    "from src.document_processor.chunker import DocumentChunker\n",
    "from src.document_processor.cleaner import TextCleaner\n",
    "from src.embeddings.embedding_manager import EmbeddingManager\n",
    "from src.question_generation.generator import EnhancedQuestionGenerator\n",
    "import logging\n",
    "\n",
    "\n",
    "with open('/home/ec2-user/SageMaker/Fine_Tune_LLMs/Big/config/config.yaml', 'r') as f:\n",
    "    config = yaml.safe_load(f)\n",
    "\n",
    "# Setup logging\n",
    "logging.basicConfig(\n",
    "    level=getattr(logging, config['logging']['level']),\n",
    "    format=config['logging']['format']\n",
    ")\n",
    "\n",
    "logger = logging.getLogger(__name__)\n",
    "\n",
    "# Initialize AWS client\n",
    "bedrock_client = boto3.client('bedrock-runtime')\n",
    "\n",
    "# Initialize components\n",
    "loader = DocumentLoader()\n",
    "chunker = DocumentChunker(\n",
    "    chunk_size=config['document_processing']['chunk_size'],\n",
    "    chunk_overlap=config['document_processing']['chunk_overlap']\n",
    ")\n",
    "cleaner = TextCleaner()\n",
    "\n",
    "embedding_manager = EmbeddingManager(\n",
    "    bedrock_client,\n",
    "    model_id=config['embedding']['model_id']\n",
    ")\n",
    "\n",
    "generator = EnhancedQuestionGenerator(\n",
    "    llm_client=bedrock_client,\n",
    "    model_id=config['question_generation']['model_id'],\n",
    "    embedding_manager=embedding_manager,\n",
    "    max_tokens=config['question_generation']['max_tokens'],\n",
    "    temperature=config['question_generation']['temperature']\n",
    ")"
   ]
  },
  {
   "cell_type": "code",
   "execution_count": 4,
   "id": "9dc0386b-19bd-4f54-aebb-08cdae279a28",
   "metadata": {
    "tags": []
   },
   "outputs": [
    {
     "name": "stderr",
     "output_type": "stream",
     "text": [
      "2024-11-08 13:41:04,438 - pypdf._reader - WARNING - Ignoring wrong pointing object 11 0 (offset 0)\n",
      "2024-11-08 13:41:04,440 - pypdf._reader - WARNING - Ignoring wrong pointing object 116 0 (offset 0)\n",
      "2024-11-08 13:41:04,441 - pypdf._reader - WARNING - Ignoring wrong pointing object 151 0 (offset 0)\n",
      "2024-11-08 13:41:04,443 - pypdf._reader - WARNING - Ignoring wrong pointing object 201 0 (offset 0)\n",
      "2024-11-08 13:41:04,444 - pypdf._reader - WARNING - Ignoring wrong pointing object 213 0 (offset 0)\n",
      "2024-11-08 13:41:04,445 - pypdf._reader - WARNING - Ignoring wrong pointing object 220 0 (offset 0)\n",
      "2024-11-08 13:41:04,446 - pypdf._reader - WARNING - Ignoring wrong pointing object 237 0 (offset 0)\n",
      "2024-11-08 13:41:04,447 - pypdf._reader - WARNING - Ignoring wrong pointing object 245 0 (offset 0)\n",
      "2024-11-08 13:41:04,448 - pypdf._reader - WARNING - Ignoring wrong pointing object 247 0 (offset 0)\n",
      "2024-11-08 13:41:04,449 - pypdf._reader - WARNING - Ignoring wrong pointing object 258 0 (offset 0)\n",
      "2024-11-08 13:41:04,450 - pypdf._reader - WARNING - Ignoring wrong pointing object 267 0 (offset 0)\n",
      "2024-11-08 13:41:04,451 - pypdf._reader - WARNING - Ignoring wrong pointing object 274 0 (offset 0)\n",
      "2024-11-08 13:41:04,452 - pypdf._reader - WARNING - Ignoring wrong pointing object 285 0 (offset 0)\n",
      "2024-11-08 13:41:04,453 - pypdf._reader - WARNING - Ignoring wrong pointing object 294 0 (offset 0)\n",
      "2024-11-08 13:41:04,454 - pypdf._reader - WARNING - Ignoring wrong pointing object 301 0 (offset 0)\n",
      "2024-11-08 13:41:04,454 - pypdf._reader - WARNING - Ignoring wrong pointing object 311 0 (offset 0)\n",
      "2024-11-08 13:41:04,455 - pypdf._reader - WARNING - Ignoring wrong pointing object 314 0 (offset 0)\n",
      "2024-11-08 13:41:04,456 - pypdf._reader - WARNING - Ignoring wrong pointing object 350 0 (offset 0)\n",
      "2024-11-08 13:41:04,458 - pypdf._reader - WARNING - Ignoring wrong pointing object 403 0 (offset 0)\n",
      "2024-11-08 13:41:04,459 - pypdf._reader - WARNING - Ignoring wrong pointing object 448 0 (offset 0)\n",
      "2024-11-08 13:41:04,460 - pypdf._reader - WARNING - Ignoring wrong pointing object 458 0 (offset 0)\n",
      "2024-11-08 13:41:04,460 - pypdf._reader - WARNING - Ignoring wrong pointing object 470 0 (offset 0)\n",
      "2024-11-08 13:41:04,461 - pypdf._reader - WARNING - Ignoring wrong pointing object 483 0 (offset 0)\n",
      "2024-11-08 13:41:04,462 - pypdf._reader - WARNING - Ignoring wrong pointing object 486 0 (offset 0)\n",
      "2024-11-08 13:41:04,463 - pypdf._reader - WARNING - Ignoring wrong pointing object 503 0 (offset 0)\n",
      "2024-11-08 13:41:04,464 - pypdf._reader - WARNING - Ignoring wrong pointing object 506 0 (offset 0)\n",
      "2024-11-08 13:41:04,464 - pypdf._reader - WARNING - Ignoring wrong pointing object 509 0 (offset 0)\n",
      "2024-11-08 13:41:04,466 - pypdf._reader - WARNING - Ignoring wrong pointing object 519 0 (offset 0)\n",
      "2024-11-08 13:41:04,466 - pypdf._reader - WARNING - Ignoring wrong pointing object 522 0 (offset 0)\n",
      "2024-11-08 13:41:04,467 - pypdf._reader - WARNING - Ignoring wrong pointing object 525 0 (offset 0)\n",
      "2024-11-08 13:41:04,468 - pypdf._reader - WARNING - Ignoring wrong pointing object 528 0 (offset 0)\n",
      "2024-11-08 13:41:04,469 - pypdf._reader - WARNING - Ignoring wrong pointing object 531 0 (offset 0)\n",
      "2024-11-08 13:41:04,471 - pypdf._reader - WARNING - Ignoring wrong pointing object 539 0 (offset 0)\n",
      "2024-11-08 13:41:04,472 - pypdf._reader - WARNING - Ignoring wrong pointing object 543 0 (offset 0)\n",
      "2024-11-08 13:41:04,473 - pypdf._reader - WARNING - Ignoring wrong pointing object 552 0 (offset 0)\n",
      "2024-11-08 13:41:04,473 - pypdf._reader - WARNING - Ignoring wrong pointing object 556 0 (offset 0)\n",
      "2024-11-08 13:41:04,474 - pypdf._reader - WARNING - Ignoring wrong pointing object 592 0 (offset 0)\n",
      "2024-11-08 13:41:04,476 - pypdf._reader - WARNING - Ignoring wrong pointing object 687 0 (offset 0)\n",
      "2024-11-08 13:41:04,477 - pypdf._reader - WARNING - Ignoring wrong pointing object 741 0 (offset 0)\n",
      "2024-11-08 13:41:04,478 - pypdf._reader - WARNING - Ignoring wrong pointing object 745 0 (offset 0)\n",
      "2024-11-08 13:41:04,478 - pypdf._reader - WARNING - Ignoring wrong pointing object 749 0 (offset 0)\n",
      "2024-11-08 13:41:04,479 - pypdf._reader - WARNING - Ignoring wrong pointing object 753 0 (offset 0)\n",
      "2024-11-08 13:41:04,480 - pypdf._reader - WARNING - Ignoring wrong pointing object 758 0 (offset 0)\n",
      "2024-11-08 13:41:04,481 - pypdf._reader - WARNING - Ignoring wrong pointing object 762 0 (offset 0)\n",
      "2024-11-08 13:41:04,482 - pypdf._reader - WARNING - Ignoring wrong pointing object 777 0 (offset 0)\n",
      "2024-11-08 13:41:04,483 - pypdf._reader - WARNING - Ignoring wrong pointing object 779 0 (offset 0)\n",
      "2024-11-08 13:41:04,484 - pypdf._reader - WARNING - Ignoring wrong pointing object 787 0 (offset 0)\n",
      "2024-11-08 13:41:04,485 - pypdf._reader - WARNING - Ignoring wrong pointing object 789 0 (offset 0)\n",
      "2024-11-08 13:41:04,486 - pypdf._reader - WARNING - Ignoring wrong pointing object 796 0 (offset 0)\n",
      "2024-11-08 13:41:04,487 - pypdf._reader - WARNING - Ignoring wrong pointing object 810 0 (offset 0)\n",
      "2024-11-08 13:41:04,488 - pypdf._reader - WARNING - Ignoring wrong pointing object 846 0 (offset 0)\n",
      "2024-11-08 13:41:04,489 - pypdf._reader - WARNING - Ignoring wrong pointing object 859 0 (offset 0)\n",
      "2024-11-08 13:41:04,489 - pypdf._reader - WARNING - Ignoring wrong pointing object 862 0 (offset 0)\n",
      "2024-11-08 13:41:04,490 - pypdf._reader - WARNING - Ignoring wrong pointing object 868 0 (offset 0)\n",
      "2024-11-08 13:41:04,491 - pypdf._reader - WARNING - Ignoring wrong pointing object 888 0 (offset 0)\n",
      "2024-11-08 13:41:04,492 - pypdf._reader - WARNING - Ignoring wrong pointing object 894 0 (offset 0)\n",
      "2024-11-08 13:41:04,493 - pypdf._reader - WARNING - Ignoring wrong pointing object 908 0 (offset 0)\n",
      "2024-11-08 13:41:04,494 - pypdf._reader - WARNING - Ignoring wrong pointing object 912 0 (offset 0)\n",
      "2024-11-08 13:41:04,495 - pypdf._reader - WARNING - Ignoring wrong pointing object 926 0 (offset 0)\n",
      "2024-11-08 13:41:04,496 - pypdf._reader - WARNING - Ignoring wrong pointing object 947 0 (offset 0)\n",
      "2024-11-08 13:41:04,498 - pypdf._reader - WARNING - Ignoring wrong pointing object 975 0 (offset 0)\n",
      "2024-11-08 13:41:04,499 - pypdf._reader - WARNING - Ignoring wrong pointing object 1017 0 (offset 0)\n",
      "2024-11-08 13:41:04,500 - pypdf._reader - WARNING - Ignoring wrong pointing object 1033 0 (offset 0)\n",
      "2024-11-08 13:41:04,500 - pypdf._reader - WARNING - Ignoring wrong pointing object 1041 0 (offset 0)\n",
      "2024-11-08 13:41:04,501 - pypdf._reader - WARNING - Ignoring wrong pointing object 1044 0 (offset 0)\n",
      "2024-11-08 13:41:04,502 - pypdf._reader - WARNING - Ignoring wrong pointing object 1059 0 (offset 0)\n",
      "2024-11-08 13:41:04,503 - pypdf._reader - WARNING - Ignoring wrong pointing object 1082 0 (offset 0)\n",
      "2024-11-08 13:41:04,504 - pypdf._reader - WARNING - Ignoring wrong pointing object 1124 0 (offset 0)\n",
      "2024-11-08 13:41:04,505 - pypdf._reader - WARNING - Ignoring wrong pointing object 1162 0 (offset 0)\n",
      "2024-11-08 13:41:04,506 - pypdf._reader - WARNING - Ignoring wrong pointing object 1175 0 (offset 0)\n",
      "2024-11-08 13:41:04,507 - pypdf._reader - WARNING - Ignoring wrong pointing object 1185 0 (offset 0)\n",
      "2024-11-08 13:41:04,508 - pypdf._reader - WARNING - Ignoring wrong pointing object 1212 0 (offset 0)\n",
      "2024-11-08 13:41:04,509 - pypdf._reader - WARNING - Ignoring wrong pointing object 1262 0 (offset 0)\n",
      "2024-11-08 13:41:04,510 - pypdf._reader - WARNING - Ignoring wrong pointing object 1277 0 (offset 0)\n",
      "2024-11-08 13:41:04,511 - pypdf._reader - WARNING - Ignoring wrong pointing object 1314 0 (offset 0)\n",
      "2024-11-08 13:41:04,512 - pypdf._reader - WARNING - Ignoring wrong pointing object 1328 0 (offset 0)\n",
      "2024-11-08 13:41:04,513 - pypdf._reader - WARNING - Ignoring wrong pointing object 1332 0 (offset 0)\n",
      "2024-11-08 13:41:04,514 - pypdf._reader - WARNING - Ignoring wrong pointing object 1349 0 (offset 0)\n",
      "2024-11-08 13:41:04,515 - pypdf._reader - WARNING - Ignoring wrong pointing object 1364 0 (offset 0)\n",
      "2024-11-08 13:41:04,516 - pypdf._reader - WARNING - Ignoring wrong pointing object 1379 0 (offset 0)\n",
      "2024-11-08 13:41:04,517 - pypdf._reader - WARNING - Ignoring wrong pointing object 1394 0 (offset 0)\n",
      "2024-11-08 13:41:04,518 - pypdf._reader - WARNING - Ignoring wrong pointing object 1404 0 (offset 0)\n",
      "2024-11-08 13:41:04,519 - pypdf._reader - WARNING - Ignoring wrong pointing object 1431 0 (offset 0)\n",
      "2024-11-08 13:41:04,520 - pypdf._reader - WARNING - Ignoring wrong pointing object 1439 0 (offset 0)\n",
      "2024-11-08 13:41:04,521 - pypdf._reader - WARNING - Ignoring wrong pointing object 1449 0 (offset 0)\n",
      "2024-11-08 13:41:04,522 - pypdf._reader - WARNING - Ignoring wrong pointing object 1466 0 (offset 0)\n",
      "2024-11-08 13:41:04,523 - pypdf._reader - WARNING - Ignoring wrong pointing object 1470 0 (offset 0)\n",
      "2024-11-08 13:41:04,526 - pypdf._reader - WARNING - Ignoring wrong pointing object 1527 0 (offset 0)\n",
      "2024-11-08 13:41:04,526 - pypdf._reader - WARNING - Ignoring wrong pointing object 1532 0 (offset 0)\n",
      "2024-11-08 13:41:04,528 - pypdf._reader - WARNING - Ignoring wrong pointing object 1558 0 (offset 0)\n",
      "2024-11-08 13:41:04,533 - pypdf._reader - WARNING - Ignoring wrong pointing object 1717 0 (offset 0)\n",
      "2024-11-08 13:41:04,535 - pypdf._reader - WARNING - Ignoring wrong pointing object 1747 0 (offset 0)\n",
      "2024-11-08 13:41:04,536 - pypdf._reader - WARNING - Ignoring wrong pointing object 1774 0 (offset 0)\n",
      "2024-11-08 13:41:04,539 - pypdf._reader - WARNING - Ignoring wrong pointing object 1847 0 (offset 0)\n",
      "2024-11-08 13:41:04,540 - pypdf._reader - WARNING - Ignoring wrong pointing object 1882 0 (offset 0)\n",
      "2024-11-08 13:41:04,542 - pypdf._reader - WARNING - Ignoring wrong pointing object 1913 0 (offset 0)\n",
      "2024-11-08 13:41:04,542 - pypdf._reader - WARNING - Ignoring wrong pointing object 1917 0 (offset 0)\n",
      "2024-11-08 13:41:04,545 - pypdf._reader - WARNING - Ignoring wrong pointing object 1928 0 (offset 0)\n",
      "2024-11-08 13:41:04,546 - pypdf._reader - WARNING - Ignoring wrong pointing object 1934 0 (offset 0)\n",
      "2024-11-08 13:41:04,546 - pypdf._reader - WARNING - Ignoring wrong pointing object 1938 0 (offset 0)\n",
      "2024-11-08 13:41:04,548 - pypdf._reader - WARNING - Ignoring wrong pointing object 1953 0 (offset 0)\n",
      "2024-11-08 13:41:04,548 - pypdf._reader - WARNING - Ignoring wrong pointing object 1959 0 (offset 0)\n",
      "2024-11-08 13:41:04,549 - pypdf._reader - WARNING - Ignoring wrong pointing object 1967 0 (offset 0)\n",
      "2024-11-08 13:41:04,550 - pypdf._reader - WARNING - Ignoring wrong pointing object 1971 0 (offset 0)\n",
      "2024-11-08 13:41:04,551 - pypdf._reader - WARNING - Ignoring wrong pointing object 1990 0 (offset 0)\n",
      "2024-11-08 13:41:04,552 - pypdf._reader - WARNING - Ignoring wrong pointing object 1995 0 (offset 0)\n",
      "2024-11-08 13:41:04,553 - pypdf._reader - WARNING - Ignoring wrong pointing object 1999 0 (offset 0)\n",
      "2024-11-08 13:41:04,555 - pypdf._reader - WARNING - Ignoring wrong pointing object 2034 0 (offset 0)\n",
      "2024-11-08 13:41:04,556 - pypdf._reader - WARNING - Ignoring wrong pointing object 2044 0 (offset 0)\n",
      "2024-11-08 13:41:04,559 - pypdf._reader - WARNING - Ignoring wrong pointing object 2054 0 (offset 0)\n",
      "2024-11-08 13:41:04,560 - pypdf._reader - WARNING - Ignoring wrong pointing object 2060 0 (offset 0)\n",
      "2024-11-08 13:41:04,561 - pypdf._reader - WARNING - Ignoring wrong pointing object 2066 0 (offset 0)\n",
      "2024-11-08 13:41:04,562 - pypdf._reader - WARNING - Ignoring wrong pointing object 2087 0 (offset 0)\n",
      "2024-11-08 13:41:04,563 - pypdf._reader - WARNING - Ignoring wrong pointing object 2089 0 (offset 0)\n",
      "2024-11-08 13:41:04,564 - pypdf._reader - WARNING - Ignoring wrong pointing object 2098 0 (offset 0)\n",
      "2024-11-08 13:41:04,565 - pypdf._reader - WARNING - Ignoring wrong pointing object 2110 0 (offset 0)\n",
      "2024-11-08 13:41:04,566 - pypdf._reader - WARNING - Ignoring wrong pointing object 2144 0 (offset 0)\n",
      "2024-11-08 13:41:04,567 - pypdf._reader - WARNING - Ignoring wrong pointing object 2160 0 (offset 0)\n",
      "2024-11-08 13:41:04,568 - pypdf._reader - WARNING - Ignoring wrong pointing object 2170 0 (offset 0)\n",
      "2024-11-08 13:41:04,569 - pypdf._reader - WARNING - Ignoring wrong pointing object 2183 0 (offset 0)\n",
      "2024-11-08 13:41:04,570 - pypdf._reader - WARNING - Ignoring wrong pointing object 2198 0 (offset 0)\n",
      "2024-11-08 13:41:04,571 - pypdf._reader - WARNING - Ignoring wrong pointing object 2216 0 (offset 0)\n",
      "2024-11-08 13:41:04,572 - pypdf._reader - WARNING - Ignoring wrong pointing object 2218 0 (offset 0)\n",
      "2024-11-08 13:41:04,573 - pypdf._reader - WARNING - Ignoring wrong pointing object 2228 0 (offset 0)\n",
      "2024-11-08 13:41:04,574 - pypdf._reader - WARNING - Ignoring wrong pointing object 2242 0 (offset 0)\n",
      "2024-11-08 13:41:04,576 - pypdf._reader - WARNING - Ignoring wrong pointing object 2267 0 (offset 0)\n",
      "2024-11-08 13:41:04,577 - pypdf._reader - WARNING - Ignoring wrong pointing object 2273 0 (offset 0)\n",
      "2024-11-08 13:41:04,578 - pypdf._reader - WARNING - Ignoring wrong pointing object 2288 0 (offset 0)\n",
      "2024-11-08 13:41:04,578 - pypdf._reader - WARNING - Ignoring wrong pointing object 2290 0 (offset 0)\n",
      "2024-11-08 13:41:04,579 - pypdf._reader - WARNING - Ignoring wrong pointing object 2293 0 (offset 0)\n",
      "2024-11-08 13:41:04,580 - pypdf._reader - WARNING - Ignoring wrong pointing object 2303 0 (offset 0)\n",
      "2024-11-08 13:41:04,581 - pypdf._reader - WARNING - Ignoring wrong pointing object 2305 0 (offset 0)\n",
      "2024-11-08 13:41:04,582 - pypdf._reader - WARNING - Ignoring wrong pointing object 2307 0 (offset 0)\n",
      "2024-11-08 13:41:04,584 - pypdf._reader - WARNING - Ignoring wrong pointing object 2390 0 (offset 0)\n",
      "2024-11-08 13:41:04,585 - pypdf._reader - WARNING - Ignoring wrong pointing object 2399 0 (offset 0)\n",
      "2024-11-08 13:41:04,587 - pypdf._reader - WARNING - Ignoring wrong pointing object 2428 0 (offset 0)\n",
      "2024-11-08 13:41:04,592 - pypdf._reader - WARNING - Ignoring wrong pointing object 2468 0 (offset 0)\n",
      "2024-11-08 13:41:04,593 - pypdf._reader - WARNING - Ignoring wrong pointing object 2519 0 (offset 0)\n",
      "2024-11-08 13:41:04,594 - pypdf._reader - WARNING - Ignoring wrong pointing object 2529 0 (offset 0)\n",
      "2024-11-08 13:41:04,595 - pypdf._reader - WARNING - Ignoring wrong pointing object 2540 0 (offset 0)\n",
      "2024-11-08 13:41:04,596 - pypdf._reader - WARNING - Ignoring wrong pointing object 2551 0 (offset 0)\n",
      "2024-11-08 13:41:04,597 - pypdf._reader - WARNING - Ignoring wrong pointing object 2596 0 (offset 0)\n",
      "2024-11-08 13:41:04,598 - pypdf._reader - WARNING - Ignoring wrong pointing object 2598 0 (offset 0)\n",
      "2024-11-08 13:41:04,599 - pypdf._reader - WARNING - Ignoring wrong pointing object 2638 0 (offset 0)\n",
      "2024-11-08 13:41:04,600 - pypdf._reader - WARNING - Ignoring wrong pointing object 2648 0 (offset 0)\n",
      "2024-11-08 13:41:04,601 - pypdf._reader - WARNING - Ignoring wrong pointing object 2666 0 (offset 0)\n",
      "2024-11-08 13:41:04,602 - pypdf._reader - WARNING - Ignoring wrong pointing object 2726 0 (offset 0)\n",
      "2024-11-08 13:41:04,604 - pypdf._reader - WARNING - Ignoring wrong pointing object 2798 0 (offset 0)\n",
      "2024-11-08 13:41:04,605 - pypdf._reader - WARNING - Ignoring wrong pointing object 2828 0 (offset 0)\n",
      "2024-11-08 13:41:04,606 - pypdf._reader - WARNING - Ignoring wrong pointing object 2841 0 (offset 0)\n",
      "2024-11-08 13:41:04,606 - pypdf._reader - WARNING - Ignoring wrong pointing object 2843 0 (offset 0)\n",
      "2024-11-08 13:41:04,607 - pypdf._reader - WARNING - Ignoring wrong pointing object 2848 0 (offset 0)\n",
      "2024-11-08 13:41:04,608 - pypdf._reader - WARNING - Ignoring wrong pointing object 2860 0 (offset 0)\n",
      "2024-11-08 13:41:04,610 - pypdf._reader - WARNING - Ignoring wrong pointing object 2960 0 (offset 0)\n",
      "2024-11-08 13:41:04,611 - pypdf._reader - WARNING - Ignoring wrong pointing object 2966 0 (offset 0)\n",
      "2024-11-08 13:41:04,612 - pypdf._reader - WARNING - Ignoring wrong pointing object 2974 0 (offset 0)\n",
      "2024-11-08 13:41:04,613 - pypdf._reader - WARNING - Ignoring wrong pointing object 2980 0 (offset 0)\n",
      "2024-11-08 13:41:04,614 - pypdf._reader - WARNING - Ignoring wrong pointing object 2989 0 (offset 0)\n",
      "2024-11-08 13:41:04,615 - pypdf._reader - WARNING - Ignoring wrong pointing object 3012 0 (offset 0)\n",
      "2024-11-08 13:41:04,615 - pypdf._reader - WARNING - Ignoring wrong pointing object 3014 0 (offset 0)\n",
      "2024-11-08 13:41:04,616 - pypdf._reader - WARNING - Ignoring wrong pointing object 3033 0 (offset 0)\n",
      "2024-11-08 13:41:04,617 - pypdf._reader - WARNING - Ignoring wrong pointing object 3072 0 (offset 0)\n",
      "2024-11-08 13:41:04,618 - pypdf._reader - WARNING - Ignoring wrong pointing object 3076 0 (offset 0)\n",
      "2024-11-08 13:41:04,619 - pypdf._reader - WARNING - Ignoring wrong pointing object 3119 0 (offset 0)\n",
      "2024-11-08 13:41:04,621 - pypdf._reader - WARNING - Ignoring wrong pointing object 3198 0 (offset 0)\n",
      "2024-11-08 13:41:04,622 - pypdf._reader - WARNING - Ignoring wrong pointing object 3202 0 (offset 0)\n",
      "2024-11-08 13:41:04,622 - pypdf._reader - WARNING - Ignoring wrong pointing object 3213 0 (offset 0)\n",
      "2024-11-08 13:41:04,624 - pypdf._reader - WARNING - Ignoring wrong pointing object 3262 0 (offset 0)\n",
      "2024-11-08 13:41:04,625 - pypdf._reader - WARNING - Ignoring wrong pointing object 3307 0 (offset 0)\n",
      "2024-11-08 13:41:04,626 - pypdf._reader - WARNING - Ignoring wrong pointing object 3314 0 (offset 0)\n",
      "2024-11-08 13:41:04,626 - pypdf._reader - WARNING - Ignoring wrong pointing object 3317 0 (offset 0)\n",
      "2024-11-08 13:41:04,627 - pypdf._reader - WARNING - Ignoring wrong pointing object 3327 0 (offset 0)\n",
      "2024-11-08 13:41:04,628 - pypdf._reader - WARNING - Ignoring wrong pointing object 3340 0 (offset 0)\n",
      "2024-11-08 13:41:04,629 - pypdf._reader - WARNING - Ignoring wrong pointing object 3343 0 (offset 0)\n",
      "2024-11-08 13:41:04,629 - pypdf._reader - WARNING - Ignoring wrong pointing object 3347 0 (offset 0)\n",
      "2024-11-08 13:41:04,630 - pypdf._reader - WARNING - Ignoring wrong pointing object 3351 0 (offset 0)\n",
      "2024-11-08 13:41:04,631 - pypdf._reader - WARNING - Ignoring wrong pointing object 3370 0 (offset 0)\n",
      "2024-11-08 13:41:04,632 - pypdf._reader - WARNING - Ignoring wrong pointing object 3390 0 (offset 0)\n",
      "2024-11-08 13:41:04,633 - pypdf._reader - WARNING - Ignoring wrong pointing object 3393 0 (offset 0)\n",
      "2024-11-08 13:41:04,634 - pypdf._reader - WARNING - Ignoring wrong pointing object 3406 0 (offset 0)\n",
      "2024-11-08 13:41:04,635 - pypdf._reader - WARNING - Ignoring wrong pointing object 3412 0 (offset 0)\n",
      "2024-11-08 13:41:04,636 - pypdf._reader - WARNING - Ignoring wrong pointing object 3414 0 (offset 0)\n",
      "2024-11-08 13:41:04,637 - pypdf._reader - WARNING - Ignoring wrong pointing object 3417 0 (offset 0)\n",
      "2024-11-08 13:41:04,638 - pypdf._reader - WARNING - Ignoring wrong pointing object 3427 0 (offset 0)\n",
      "2024-11-08 13:41:04,639 - pypdf._reader - WARNING - Ignoring wrong pointing object 3473 0 (offset 0)\n",
      "2024-11-08 13:41:04,640 - pypdf._reader - WARNING - Ignoring wrong pointing object 3552 0 (offset 0)\n",
      "2024-11-08 13:41:04,641 - pypdf._reader - WARNING - Ignoring wrong pointing object 3566 0 (offset 0)\n",
      "2024-11-08 13:41:04,642 - pypdf._reader - WARNING - Ignoring wrong pointing object 3585 0 (offset 0)\n",
      "2024-11-08 13:41:04,644 - pypdf._reader - WARNING - Ignoring wrong pointing object 3705 0 (offset 0)\n",
      "2024-11-08 13:41:04,646 - pypdf._reader - WARNING - Ignoring wrong pointing object 3839 0 (offset 0)\n",
      "2024-11-08 13:41:04,647 - pypdf._reader - WARNING - Ignoring wrong pointing object 3842 0 (offset 0)\n",
      "2024-11-08 13:41:04,648 - pypdf._reader - WARNING - Ignoring wrong pointing object 3870 0 (offset 0)\n",
      "2024-11-08 13:41:04,649 - pypdf._reader - WARNING - Ignoring wrong pointing object 3886 0 (offset 0)\n",
      "2024-11-08 13:41:04,650 - pypdf._reader - WARNING - Ignoring wrong pointing object 3914 0 (offset 0)\n",
      "2024-11-08 13:41:04,651 - pypdf._reader - WARNING - Ignoring wrong pointing object 3917 0 (offset 0)\n",
      "2024-11-08 13:41:04,653 - pypdf._reader - WARNING - Ignoring wrong pointing object 4046 0 (offset 0)\n",
      "2024-11-08 13:41:04,654 - pypdf._reader - WARNING - Ignoring wrong pointing object 4113 0 (offset 0)\n",
      "2024-11-08 13:41:04,656 - pypdf._reader - WARNING - Ignoring wrong pointing object 4285 0 (offset 0)\n",
      "2024-11-08 13:41:04,657 - pypdf._reader - WARNING - Ignoring wrong pointing object 4288 0 (offset 0)\n",
      "2024-11-08 13:41:04,659 - pypdf._reader - WARNING - Ignoring wrong pointing object 4352 0 (offset 0)\n",
      "2024-11-08 13:41:04,661 - pypdf._reader - WARNING - Ignoring wrong pointing object 4513 0 (offset 0)\n",
      "2024-11-08 13:41:04,662 - pypdf._reader - WARNING - Ignoring wrong pointing object 4515 0 (offset 0)\n",
      "2024-11-08 13:41:04,663 - pypdf._reader - WARNING - Ignoring wrong pointing object 4537 0 (offset 0)\n",
      "2024-11-08 13:41:04,666 - pypdf._reader - WARNING - Ignoring wrong pointing object 4773 0 (offset 0)\n",
      "2024-11-08 13:41:04,668 - pypdf._reader - WARNING - Ignoring wrong pointing object 4953 0 (offset 0)\n",
      "2024-11-08 13:41:04,669 - pypdf._reader - WARNING - Ignoring wrong pointing object 4981 0 (offset 0)\n",
      "2024-11-08 13:41:04,670 - pypdf._reader - WARNING - Ignoring wrong pointing object 5026 0 (offset 0)\n",
      "2024-11-08 13:41:04,671 - pypdf._reader - WARNING - Ignoring wrong pointing object 5093 0 (offset 0)\n",
      "2024-11-08 13:41:04,674 - pypdf._reader - WARNING - Ignoring wrong pointing object 5248 0 (offset 0)\n",
      "2024-11-08 13:41:04,674 - pypdf._reader - WARNING - Ignoring wrong pointing object 5252 0 (offset 0)\n",
      "2024-11-08 13:41:04,675 - pypdf._reader - WARNING - Ignoring wrong pointing object 5256 0 (offset 0)\n",
      "2024-11-08 13:41:04,676 - pypdf._reader - WARNING - Ignoring wrong pointing object 5288 0 (offset 0)\n",
      "2024-11-08 13:41:04,677 - pypdf._reader - WARNING - Ignoring wrong pointing object 5300 0 (offset 0)\n",
      "2024-11-08 13:41:04,678 - pypdf._reader - WARNING - Ignoring wrong pointing object 5360 0 (offset 0)\n",
      "2024-11-08 13:41:04,679 - pypdf._reader - WARNING - Ignoring wrong pointing object 5379 0 (offset 0)\n",
      "2024-11-08 13:41:04,680 - pypdf._reader - WARNING - Ignoring wrong pointing object 5381 0 (offset 0)\n",
      "2024-11-08 13:41:04,681 - pypdf._reader - WARNING - Ignoring wrong pointing object 5389 0 (offset 0)\n",
      "2024-11-08 13:41:04,682 - pypdf._reader - WARNING - Ignoring wrong pointing object 5391 0 (offset 0)\n",
      "2024-11-08 13:41:04,683 - pypdf._reader - WARNING - Ignoring wrong pointing object 5394 0 (offset 0)\n",
      "2024-11-08 13:41:04,684 - pypdf._reader - WARNING - Ignoring wrong pointing object 5397 0 (offset 0)\n",
      "2024-11-08 13:41:04,684 - pypdf._reader - WARNING - Ignoring wrong pointing object 5399 0 (offset 0)\n",
      "2024-11-08 13:41:04,685 - pypdf._reader - WARNING - Ignoring wrong pointing object 5402 0 (offset 0)\n",
      "2024-11-08 13:41:04,686 - pypdf._reader - WARNING - Ignoring wrong pointing object 5404 0 (offset 0)\n",
      "2024-11-08 13:41:04,687 - pypdf._reader - WARNING - Ignoring wrong pointing object 5411 0 (offset 0)\n",
      "2024-11-08 13:41:04,687 - pypdf._reader - WARNING - Ignoring wrong pointing object 5413 0 (offset 0)\n",
      "2024-11-08 13:41:04,688 - pypdf._reader - WARNING - Ignoring wrong pointing object 5416 0 (offset 0)\n",
      "2024-11-08 13:41:04,689 - pypdf._reader - WARNING - Ignoring wrong pointing object 5418 0 (offset 0)\n",
      "2024-11-08 13:41:04,691 - pypdf._reader - WARNING - Ignoring wrong pointing object 5424 0 (offset 0)\n",
      "2024-11-08 13:41:04,691 - pypdf._reader - WARNING - Ignoring wrong pointing object 5426 0 (offset 0)\n",
      "2024-11-08 13:41:04,692 - pypdf._reader - WARNING - Ignoring wrong pointing object 5429 0 (offset 0)\n",
      "2024-11-08 13:41:04,693 - pypdf._reader - WARNING - Ignoring wrong pointing object 5431 0 (offset 0)\n",
      "2024-11-08 13:41:04,693 - pypdf._reader - WARNING - Ignoring wrong pointing object 5434 0 (offset 0)\n",
      "2024-11-08 13:41:04,694 - pypdf._reader - WARNING - Ignoring wrong pointing object 5440 0 (offset 0)\n",
      "2024-11-08 13:41:04,696 - pypdf._reader - WARNING - Ignoring wrong pointing object 5446 0 (offset 0)\n",
      "2024-11-08 13:41:04,696 - pypdf._reader - WARNING - Ignoring wrong pointing object 5448 0 (offset 0)\n",
      "2024-11-08 13:41:04,697 - pypdf._reader - WARNING - Ignoring wrong pointing object 5451 0 (offset 0)\n",
      "2024-11-08 13:41:04,697 - pypdf._reader - WARNING - Ignoring wrong pointing object 5453 0 (offset 0)\n",
      "2024-11-08 13:41:04,699 - pypdf._reader - WARNING - Ignoring wrong pointing object 5459 0 (offset 0)\n",
      "2024-11-08 13:41:04,699 - pypdf._reader - WARNING - Ignoring wrong pointing object 5461 0 (offset 0)\n",
      "2024-11-08 13:41:04,700 - pypdf._reader - WARNING - Ignoring wrong pointing object 5467 0 (offset 0)\n",
      "2024-11-08 13:41:04,701 - pypdf._reader - WARNING - Ignoring wrong pointing object 5474 0 (offset 0)\n",
      "2024-11-08 13:41:04,702 - pypdf._reader - WARNING - Ignoring wrong pointing object 5476 0 (offset 0)\n",
      "2024-11-08 13:41:04,703 - pypdf._reader - WARNING - Ignoring wrong pointing object 5483 0 (offset 0)\n",
      "2024-11-08 13:41:04,703 - pypdf._reader - WARNING - Ignoring wrong pointing object 5485 0 (offset 0)\n",
      "2024-11-08 13:41:04,704 - pypdf._reader - WARNING - Ignoring wrong pointing object 5488 0 (offset 0)\n",
      "2024-11-08 13:41:04,705 - pypdf._reader - WARNING - Ignoring wrong pointing object 5490 0 (offset 0)\n",
      "2024-11-08 13:41:04,706 - pypdf._reader - WARNING - Ignoring wrong pointing object 5497 0 (offset 0)\n",
      "2024-11-08 13:41:04,707 - pypdf._reader - WARNING - Ignoring wrong pointing object 5504 0 (offset 0)\n",
      "2024-11-08 13:41:04,708 - pypdf._reader - WARNING - Ignoring wrong pointing object 5506 0 (offset 0)\n",
      "2024-11-08 13:41:04,709 - pypdf._reader - WARNING - Ignoring wrong pointing object 5515 0 (offset 0)\n",
      "2024-11-08 13:41:04,710 - pypdf._reader - WARNING - Ignoring wrong pointing object 5521 0 (offset 0)\n",
      "2024-11-08 13:41:04,711 - pypdf._reader - WARNING - Ignoring wrong pointing object 5527 0 (offset 0)\n",
      "2024-11-08 13:41:04,712 - pypdf._reader - WARNING - Ignoring wrong pointing object 5538 0 (offset 0)\n",
      "2024-11-08 13:41:04,712 - pypdf._reader - WARNING - Ignoring wrong pointing object 5540 0 (offset 0)\n",
      "2024-11-08 13:41:04,713 - pypdf._reader - WARNING - Ignoring wrong pointing object 5543 0 (offset 0)\n",
      "2024-11-08 13:41:04,714 - pypdf._reader - WARNING - Ignoring wrong pointing object 5552 0 (offset 0)\n",
      "2024-11-08 13:41:04,715 - pypdf._reader - WARNING - Ignoring wrong pointing object 5561 0 (offset 0)\n",
      "2024-11-08 13:41:04,716 - pypdf._reader - WARNING - Ignoring wrong pointing object 5563 0 (offset 0)\n",
      "2024-11-08 13:41:04,717 - pypdf._reader - WARNING - Ignoring wrong pointing object 5572 0 (offset 0)\n",
      "2024-11-08 13:41:04,717 - pypdf._reader - WARNING - Ignoring wrong pointing object 5574 0 (offset 0)\n",
      "2024-11-08 13:41:04,718 - pypdf._reader - WARNING - Ignoring wrong pointing object 5581 0 (offset 0)\n",
      "2024-11-08 13:41:04,718 - pypdf._reader - WARNING - Ignoring wrong pointing object 5583 0 (offset 0)\n",
      "2024-11-08 13:41:04,720 - pypdf._reader - WARNING - Ignoring wrong pointing object 5589 0 (offset 0)\n",
      "2024-11-08 13:41:04,721 - pypdf._reader - WARNING - Ignoring wrong pointing object 5604 0 (offset 0)\n",
      "2024-11-08 13:41:04,722 - pypdf._reader - WARNING - Ignoring wrong pointing object 5621 0 (offset 0)\n",
      "2024-11-08 13:41:04,723 - pypdf._reader - WARNING - Ignoring wrong pointing object 5677 0 (offset 0)\n",
      "2024-11-08 13:41:04,724 - pypdf._reader - WARNING - Ignoring wrong pointing object 5690 0 (offset 0)\n",
      "2024-11-08 13:41:04,725 - pypdf._reader - WARNING - Ignoring wrong pointing object 5705 0 (offset 0)\n",
      "2024-11-08 13:41:04,725 - pypdf._reader - WARNING - Ignoring wrong pointing object 5708 0 (offset 0)\n",
      "2024-11-08 13:41:04,727 - pypdf._reader - WARNING - Ignoring wrong pointing object 5722 0 (offset 0)\n",
      "2024-11-08 13:41:04,727 - pypdf._reader - WARNING - Ignoring wrong pointing object 5733 0 (offset 0)\n",
      "2024-11-08 13:41:04,728 - pypdf._reader - WARNING - Ignoring wrong pointing object 5756 0 (offset 0)\n",
      "2024-11-08 13:41:04,729 - pypdf._reader - WARNING - Ignoring wrong pointing object 5786 0 (offset 0)\n",
      "2024-11-08 13:41:04,730 - pypdf._reader - WARNING - Ignoring wrong pointing object 5814 0 (offset 0)\n",
      "2024-11-08 13:41:04,731 - pypdf._reader - WARNING - Ignoring wrong pointing object 5835 0 (offset 0)\n",
      "2024-11-08 13:42:07,928 - __main__ - INFO - Documents loaded\n",
      "2024-11-08 13:42:08,082 - __main__ - INFO - Documents cleaned\n",
      "2024-11-08 13:42:08,473 - __main__ - INFO - Documents chunked into 2095 chunks\n",
      "2024-11-08 13:44:33,228 - faiss.loader - INFO - Loading faiss with AVX2 support.\n",
      "2024-11-08 13:44:33,229 - faiss.loader - INFO - Could not load library with AVX2 support due to:\n",
      "ModuleNotFoundError(\"No module named 'faiss.swigfaiss_avx2'\")\n",
      "2024-11-08 13:44:33,229 - faiss.loader - INFO - Loading faiss.\n",
      "2024-11-08 13:44:33,440 - faiss.loader - INFO - Successfully loaded faiss.\n",
      "2024-11-08 13:44:33,625 - src.embeddings.embedding_manager - INFO - Embeddings created and stored in FAISS\n",
      "2024-11-08 13:44:33,626 - __main__ - INFO - Embeddings created\n"
     ]
    }
   ],
   "source": [
    "# Process documents\n",
    "documents = loader.load_document(\"/home/ec2-user/SageMaker/Fine_Tune_LLMs/Big/data/NM_changed.pdf\")\n",
    "logger.info(\"Documents loaded\")\n",
    "\n",
    "# Clean and chunk documents\n",
    "cleaned_documents = []\n",
    "for doc in documents:\n",
    "    doc.page_content = cleaner.clean_text(doc.page_content)\n",
    "    cleaned_documents.append(doc)\n",
    "logger.info(\"Documents cleaned\")\n",
    "\n",
    "chunks = chunker.chunk_documents(cleaned_documents)\n",
    "logger.info(f\"Documents chunked into {len(chunks)} chunks\")\n",
    "\n",
    "# Create embeddings\n",
    "embedding_manager.create_embeddings(chunks)\n",
    "logger.info(\"Embeddings created\")"
   ]
  },
  {
   "cell_type": "code",
   "execution_count": 13,
   "id": "60c86859-442d-438f-8ee5-a6baecfe353e",
   "metadata": {
    "tags": []
   },
   "outputs": [
    {
     "name": "stderr",
     "output_type": "stream",
     "text": [
      "2024-11-08 13:51:48,104 - src.embeddings.embedding_manager - INFO - Embeddings saved to faiss_index\n"
     ]
    }
   ],
   "source": [
    "# Create embeddings and save them\n",
    "#embedding_manager.create_embeddings(documents)\n",
    "embedding_manager.save_embeddings(\"faiss_index\", \"metadata.txt\")\n",
    "\n",
    "# Load the saved embeddings\n",
    "#embedding_manager.load_embeddings(\"faiss_index\")\n",
    "\n",
    "# Wipe the existing database\n",
    "#embedding_manager.wipe_embeddings(\"faiss_index\", \"metadata.txt\")"
   ]
  },
  {
   "cell_type": "code",
   "execution_count": 16,
   "id": "aa5e19bd-3b20-4e4b-8329-33dcdbf08c35",
   "metadata": {
    "tags": []
   },
   "outputs": [
    {
     "name": "stderr",
     "output_type": "stream",
     "text": [
      "2024-11-08 14:08:12,650 - __main__ - INFO - 100 question-answer pairs generated\n"
     ]
    }
   ],
   "source": [
    "import pandas as pd\n",
    "# Generate questions\n",
    "questions = generator.generate_questions_from_docs(\n",
    "    chunks,\n",
    "    num_questions= 100\n",
    ")\n",
    "logger.info(f\"{len(questions)} question-answer pairs generated\")\n",
    "\n",
    "# Prepare data for DataFrame\n",
    "qa_data = [{\"Question\": qa.question, \"Answer\": qa.answer, \"Context\": qa.context} for qa in questions]\n",
    "\n",
    "# Create DataFrame\n",
    "qa_df = pd.DataFrame(qa_data)"
   ]
  },
  {
   "cell_type": "code",
   "execution_count": 17,
   "id": "efe3e99d-1e39-4928-8333-25bb6754dd0b",
   "metadata": {
    "tags": []
   },
   "outputs": [
    {
     "data": {
      "text/html": [
       "<div>\n",
       "<style scoped>\n",
       "    .dataframe tbody tr th:only-of-type {\n",
       "        vertical-align: middle;\n",
       "    }\n",
       "\n",
       "    .dataframe tbody tr th {\n",
       "        vertical-align: top;\n",
       "    }\n",
       "\n",
       "    .dataframe thead th {\n",
       "        text-align: right;\n",
       "    }\n",
       "</style>\n",
       "<table border=\"1\" class=\"dataframe\">\n",
       "  <thead>\n",
       "    <tr style=\"text-align: right;\">\n",
       "      <th></th>\n",
       "      <th>Question</th>\n",
       "      <th>Answer</th>\n",
       "      <th>Context</th>\n",
       "    </tr>\n",
       "  </thead>\n",
       "  <tbody>\n",
       "    <tr>\n",
       "      <th>0</th>\n",
       "      <td>What is the fundamental concept and process in...</td>\n",
       "      <td>Nuclear medicine imaging involves administerin...</td>\n",
       "      <td>1 chapter What Is Nuclear Medicine?A. FUNDAMEN...</td>\n",
       "    </tr>\n",
       "    <tr>\n",
       "      <th>1</th>\n",
       "      <td>What are the current applications and global u...</td>\n",
       "      <td>As of 2006, there were roughly 100 different d...</td>\n",
       "      <td>1 chapter What Is Nuclear Medicine?A. FUNDAMEN...</td>\n",
       "    </tr>\n",
       "    <tr>\n",
       "      <th>2</th>\n",
       "      <td>What are the two broad classes of nuclear medi...</td>\n",
       "      <td>The two broad classes of nuclear medicine imag...</td>\n",
       "      <td>photons are emitted. The energy of these gamma...</td>\n",
       "    </tr>\n",
       "    <tr>\n",
       "      <th>3</th>\n",
       "      <td>What are the key components of a gamma camera,...</td>\n",
       "      <td>The key components of a gamma camera are a col...</td>\n",
       "      <td>photons are emitted. The energy of these gamma...</td>\n",
       "    </tr>\n",
       "    <tr>\n",
       "      <th>4</th>\n",
       "      <td>What are the two broad classes of nuclear medi...</td>\n",
       "      <td>The two broad classes of nuclear medicine imag...</td>\n",
       "      <td>particular angle. This results in an image wit...</td>\n",
       "    </tr>\n",
       "  </tbody>\n",
       "</table>\n",
       "</div>"
      ],
      "text/plain": [
       "                                            Question  \\\n",
       "0  What is the fundamental concept and process in...   \n",
       "1  What are the current applications and global u...   \n",
       "2  What are the two broad classes of nuclear medi...   \n",
       "3  What are the key components of a gamma camera,...   \n",
       "4  What are the two broad classes of nuclear medi...   \n",
       "\n",
       "                                              Answer  \\\n",
       "0  Nuclear medicine imaging involves administerin...   \n",
       "1  As of 2006, there were roughly 100 different d...   \n",
       "2  The two broad classes of nuclear medicine imag...   \n",
       "3  The key components of a gamma camera are a col...   \n",
       "4  The two broad classes of nuclear medicine imag...   \n",
       "\n",
       "                                             Context  \n",
       "0  1 chapter What Is Nuclear Medicine?A. FUNDAMEN...  \n",
       "1  1 chapter What Is Nuclear Medicine?A. FUNDAMEN...  \n",
       "2  photons are emitted. The energy of these gamma...  \n",
       "3  photons are emitted. The energy of these gamma...  \n",
       "4  particular angle. This results in an image wit...  "
      ]
     },
     "execution_count": 17,
     "metadata": {},
     "output_type": "execute_result"
    }
   ],
   "source": [
    "# Display the DataFrame\n",
    "qa_df.head()"
   ]
  },
  {
   "cell_type": "code",
   "execution_count": 18,
   "id": "d0fc10b5-c088-4608-bc8c-e071d000d3ac",
   "metadata": {
    "tags": []
   },
   "outputs": [
    {
     "data": {
      "text/html": [
       "<div>\n",
       "<style scoped>\n",
       "    .dataframe tbody tr th:only-of-type {\n",
       "        vertical-align: middle;\n",
       "    }\n",
       "\n",
       "    .dataframe tbody tr th {\n",
       "        vertical-align: top;\n",
       "    }\n",
       "\n",
       "    .dataframe thead th {\n",
       "        text-align: right;\n",
       "    }\n",
       "</style>\n",
       "<table border=\"1\" class=\"dataframe\">\n",
       "  <thead>\n",
       "    <tr style=\"text-align: right;\">\n",
       "      <th></th>\n",
       "      <th>Question</th>\n",
       "      <th>Answer</th>\n",
       "      <th>Context</th>\n",
       "    </tr>\n",
       "  </thead>\n",
       "  <tbody>\n",
       "    <tr>\n",
       "      <th>95</th>\n",
       "      <td>What is the significance of the notation \"eKxx...</td>\n",
       "      <td>In the notation \"eKxx\", the symbol \"e\" represe...</td>\n",
       "      <td>the symbol x is inclusive, referring to all Au...</td>\n",
       "    </tr>\n",
       "    <tr>\n",
       "      <th>96</th>\n",
       "      <td>What is the relationship between the atomic nu...</td>\n",
       "      <td>In a neutral atom, the number of orbital elect...</td>\n",
       "      <td>of the atom, Z. As mentioned earlier, this als...</td>\n",
       "    </tr>\n",
       "    <tr>\n",
       "      <th>97</th>\n",
       "      <td>What is the significance of the mass number (A...</td>\n",
       "      <td>The mass number (A) of an atomic nucleus repre...</td>\n",
       "      <td>of the atom, Z. As mentioned earlier, this als...</td>\n",
       "    </tr>\n",
       "    <tr>\n",
       "      <th>98</th>\n",
       "      <td>What are the two types of forces that nucleons...</td>\n",
       "      <td>Nucleons within the nucleus are subject to two...</td>\n",
       "      <td>14 Physics in Nuclear Medicine4. Forces and En...</td>\n",
       "    </tr>\n",
       "    <tr>\n",
       "      <th>99</th>\n",
       "      <td>How does the shell model describe the motion o...</td>\n",
       "      <td>The shell model portrays the nucleons as movin...</td>\n",
       "      <td>14 Physics in Nuclear Medicine4. Forces and En...</td>\n",
       "    </tr>\n",
       "  </tbody>\n",
       "</table>\n",
       "</div>"
      ],
      "text/plain": [
       "                                             Question  \\\n",
       "95  What is the significance of the notation \"eKxx...   \n",
       "96  What is the relationship between the atomic nu...   \n",
       "97  What is the significance of the mass number (A...   \n",
       "98  What are the two types of forces that nucleons...   \n",
       "99  How does the shell model describe the motion o...   \n",
       "\n",
       "                                               Answer  \\\n",
       "95  In the notation \"eKxx\", the symbol \"e\" represe...   \n",
       "96  In a neutral atom, the number of orbital elect...   \n",
       "97  The mass number (A) of an atomic nucleus repre...   \n",
       "98  Nucleons within the nucleus are subject to two...   \n",
       "99  The shell model portrays the nucleons as movin...   \n",
       "\n",
       "                                              Context  \n",
       "95  the symbol x is inclusive, referring to all Au...  \n",
       "96  of the atom, Z. As mentioned earlier, this als...  \n",
       "97  of the atom, Z. As mentioned earlier, this als...  \n",
       "98  14 Physics in Nuclear Medicine4. Forces and En...  \n",
       "99  14 Physics in Nuclear Medicine4. Forces and En...  "
      ]
     },
     "execution_count": 18,
     "metadata": {},
     "output_type": "execute_result"
    }
   ],
   "source": [
    "# Display the DataFrame\n",
    "qa_df.tail()"
   ]
  },
  {
   "cell_type": "code",
   "execution_count": 19,
   "id": "45400f21-fcad-41b1-a06a-ea18f0bf87bb",
   "metadata": {
    "tags": []
   },
   "outputs": [],
   "source": [
    "qa_df.to_csv(\"qa_data.csv\", index=False)"
   ]
  },
  {
   "cell_type": "markdown",
   "id": "b03e5034-231b-4b45-9fe8-99185a34a0bf",
   "metadata": {},
   "source": [
    "# Fine-tuning"
   ]
  },
  {
   "cell_type": "markdown",
   "id": "b6fefaf6-37b6-4a56-be64-a01bebc8fbd9",
   "metadata": {},
   "source": [
    "## Ministral-3B-instruct\n",
    "\n",
    "I'm going to test this model on really specific questions from the Nuclear Medicine manual and see how well it responds firs"
   ]
  },
  {
   "cell_type": "code",
   "execution_count": null,
   "id": "450ff7f4-a0cd-4ce0-b36b-af5fb3368f8f",
   "metadata": {
    "tags": []
   },
   "outputs": [],
   "source": [
    "# Required imports\n",
    "!pip install ragas\n",
    "!pip install llama_index\n",
    "import torch\n",
    "import ragas\n",
    "from ragas.llms import LangchainLLMWrapper\n",
    "from transformers import AutoModelForCausalLM, AutoTokenizer\n",
    "from peft import LoraConfig, get_peft_model\n",
    "from trl import SFTTrainer\n",
    "from ragas.testset import TestsetGenerator\n",
    "from langchain_openai import ChatOpenAI\n",
    "from llama_index.core import SimpleDirectoryReader\n",
    "import gc\n",
    "import pandas as pd\n",
    "from datasets import Dataset\n",
    "\n",
    "# Memory management class\n",
    "class MemoryTracker:\n",
    "    def __init__(self):\n",
    "        self.records = []\n",
    "    \n",
    "    def log_memory(self, checkpoint):\n",
    "        memory_stats = {\n",
    "            'checkpoint': checkpoint,\n",
    "            'allocated': torch.cuda.memory_allocated() / 1024**2,\n",
    "            'reserved': torch.cuda.memory_reserved() / 1024**2\n",
    "        }\n",
    "        self.records.append(memory_stats)\n",
    "        return memory_stats\n",
    "\n",
    "    def clear_memory(self):\n",
    "        torch.cuda.empty_cache()\n",
    "        gc.collect()\n",
    "\n",
    "memory_tracker = MemoryTracker()"
   ]
  },
  {
   "cell_type": "code",
   "execution_count": 11,
   "id": "2ca3e436-aba5-4ac3-a3f6-4980f067cf75",
   "metadata": {},
   "outputs": [
    {
     "data": {
      "application/vnd.jupyter.widget-view+json": {
       "model_id": "5784c269f33f4c9ea87f6833f5def73a",
       "version_major": 2,
       "version_minor": 0
      },
      "text/plain": [
       "Loading checkpoint shards:   0%|          | 0/3 [00:00<?, ?it/s]"
      ]
     },
     "metadata": {},
     "output_type": "display_data"
    },
    {
     "name": "stderr",
     "output_type": "stream",
     "text": [
      "Hardware accelerator e.g. GPU is available in the environment, but no `device` argument is passed to the `Pipeline` object. Model will be on CPU.\n"
     ]
    }
   ],
   "source": [
    "from transformers import pipeline\n",
    "\n",
    "messages = [\n",
    "    {\"role\": \"user\", \"content\": \"What was the significance of the discovery of technetium-99m (99mTc) in the advancement of nuclear medicine imaging\"},\n",
    "]\n",
    "\n",
    "# Specify the device parameter to use the first GPU (cuda:0)\n",
    "pipe = pipeline(\"text-generation\", model=\"ministral/Ministral-3b-instruct\")\n",
    "response = pipe(messages, max_new_tokens=50)"
   ]
  },
  {
   "cell_type": "code",
   "execution_count": 12,
   "id": "66b9a8c6-7e0f-425e-bdad-4f0e8690e70d",
   "metadata": {
    "tags": []
   },
   "outputs": [
    {
     "data": {
      "text/plain": [
       "[{'generated_text': [{'role': 'user',\n",
       "    'content': 'What was the significance of the discovery of technetium-99m (99mTc) in the advancement of nuclear medicine imaging'},\n",
       "   {'role': 'assistant',\n",
       "    'content': 'The discovery of the first atomic nucleus, the nucleus of the nucleus of the nucleus of the nucleus of the nucleus of the nucleus of the nucleus of the nucleus of the nucleus of the nucleus of the'}]}]"
      ]
     },
     "execution_count": 12,
     "metadata": {},
     "output_type": "execute_result"
    }
   ],
   "source": [
    "response"
   ]
  },
  {
   "cell_type": "code",
   "execution_count": null,
   "id": "d7a338da-5abd-434f-aa60-0dd9d0b82dea",
   "metadata": {},
   "outputs": [],
   "source": []
  }
 ],
 "metadata": {
  "kernelspec": {
   "display_name": "conda_pytorch_p310",
   "language": "python",
   "name": "conda_pytorch_p310"
  },
  "language_info": {
   "codemirror_mode": {
    "name": "ipython",
    "version": 3
   },
   "file_extension": ".py",
   "mimetype": "text/x-python",
   "name": "python",
   "nbconvert_exporter": "python",
   "pygments_lexer": "ipython3",
   "version": "3.10.14"
  }
 },
 "nbformat": 4,
 "nbformat_minor": 5
}
